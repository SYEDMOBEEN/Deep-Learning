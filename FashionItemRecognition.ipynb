{
 "cells": [
  {
   "cell_type": "markdown",
   "id": "38b1dcd1",
   "metadata": {},
   "source": [
    "# Fashion_mnist Dataset"
   ]
  },
  {
   "cell_type": "code",
   "execution_count": 1,
   "id": "62f78551",
   "metadata": {},
   "outputs": [],
   "source": [
    "from keras.datasets import fashion_mnist\n",
    "from keras import models\n",
    "from keras import layers"
   ]
  },
  {
   "cell_type": "markdown",
   "id": "345a7191",
   "metadata": {},
   "source": [
    "# Loading fashion_mnist Data"
   ]
  },
  {
   "cell_type": "code",
   "execution_count": 2,
   "id": "94561961",
   "metadata": {},
   "outputs": [
    {
     "name": "stdout",
     "output_type": "stream",
     "text": [
      "Downloading data from https://storage.googleapis.com/tensorflow/tf-keras-datasets/train-labels-idx1-ubyte.gz\n",
      "32768/29515 [=================================] - 0s 3us/step\n",
      "Downloading data from https://storage.googleapis.com/tensorflow/tf-keras-datasets/train-images-idx3-ubyte.gz\n",
      "26427392/26421880 [==============================] - 18s 1us/step\n",
      "Downloading data from https://storage.googleapis.com/tensorflow/tf-keras-datasets/t10k-labels-idx1-ubyte.gz\n",
      "8192/5148 [===============================================] - 0s 0us/step\n",
      "Downloading data from https://storage.googleapis.com/tensorflow/tf-keras-datasets/t10k-images-idx3-ubyte.gz\n",
      "4423680/4422102 [==============================] - 3s 1us/step\n"
     ]
    }
   ],
   "source": [
    "(train_images, train_labels), (test_images, test_labels) = fashion_mnist.load_data()"
   ]
  },
  {
   "cell_type": "markdown",
   "id": "239c2931",
   "metadata": {},
   "source": [
    "# Checking shape of train and test images"
   ]
  },
  {
   "cell_type": "code",
   "execution_count": 3,
   "id": "c8be046a",
   "metadata": {},
   "outputs": [
    {
     "data": {
      "text/plain": [
       "(60000, 28, 28)"
      ]
     },
     "execution_count": 3,
     "metadata": {},
     "output_type": "execute_result"
    }
   ],
   "source": [
    "train_images.shape"
   ]
  },
  {
   "cell_type": "code",
   "execution_count": 4,
   "id": "870732fc",
   "metadata": {},
   "outputs": [
    {
     "data": {
      "text/plain": [
       "(10000, 28, 28)"
      ]
     },
     "execution_count": 4,
     "metadata": {},
     "output_type": "execute_result"
    }
   ],
   "source": [
    "test_images.shape"
   ]
  },
  {
   "cell_type": "markdown",
   "id": "e2869be3",
   "metadata": {},
   "source": [
    "# Making a Neural Network Model"
   ]
  },
  {
   "cell_type": "code",
   "execution_count": 5,
   "id": "1c3dda5c",
   "metadata": {},
   "outputs": [],
   "source": [
    "network = models.Sequential()\n",
    "network.add(layers.Dense(712, activation='relu', input_shape = (784,)))\n",
    "network.add(layers.Dense(712, activation='relu'))\n",
    "network.add(layers.Dense(10,activation='softmax'))"
   ]
  },
  {
   "cell_type": "markdown",
   "id": "23d01133",
   "metadata": {},
   "source": [
    "# Compiling Model(with optimizer, loss, and accuracy metrix)"
   ]
  },
  {
   "cell_type": "code",
   "execution_count": 6,
   "id": "0663c5e9",
   "metadata": {},
   "outputs": [],
   "source": [
    "network.compile(optimizer='rmsprop', loss='categorical_crossentropy', metrics=['accuracy'])"
   ]
  },
  {
   "cell_type": "markdown",
   "id": "6d89e3b7",
   "metadata": {},
   "source": [
    "# Preparing image data and labels(One-hot-encoding)"
   ]
  },
  {
   "cell_type": "code",
   "execution_count": 7,
   "id": "b0017158",
   "metadata": {},
   "outputs": [],
   "source": [
    "# Prepering Lables\n",
    "train_images = train_images.reshape((60000, 28 * 28))\n",
    "train_images = train_images.astype('float32') / 255\n",
    "test_images = test_images.reshape((10000, 28 * 28))\n",
    "test_images = test_images.astype('float32') / 255\n",
    "\n",
    "# Prepering Lables\n",
    "from tensorflow.keras.utils import to_categorical\n",
    "train_labels = to_categorical(train_labels)\n",
    "test_labels = to_categorical(test_labels)"
   ]
  },
  {
   "cell_type": "markdown",
   "id": "3f4020ca",
   "metadata": {},
   "source": [
    "# Training Model"
   ]
  },
  {
   "cell_type": "code",
   "execution_count": 8,
   "id": "311df161",
   "metadata": {},
   "outputs": [
    {
     "name": "stdout",
     "output_type": "stream",
     "text": [
      "Epoch 1/15\n",
      "469/469 [==============================] - 74s 158ms/step - loss: 0.5417 - accuracy: 0.8023\n",
      "Epoch 2/15\n",
      "469/469 [==============================] - 67s 143ms/step - loss: 0.3809 - accuracy: 0.8608\n",
      "Epoch 3/15\n",
      "469/469 [==============================] - 75s 161ms/step - loss: 0.3405 - accuracy: 0.8757\n",
      "Epoch 4/15\n",
      "469/469 [==============================] - 67s 142ms/step - loss: 0.3168 - accuracy: 0.8833\n",
      "Epoch 5/15\n",
      "469/469 [==============================] - 76s 161ms/step - loss: 0.2990 - accuracy: 0.8904\n",
      "Epoch 6/15\n",
      "469/469 [==============================] - 70s 150ms/step - loss: 0.2866 - accuracy: 0.8946\n",
      "Epoch 7/15\n",
      "469/469 [==============================] - 70s 149ms/step - loss: 0.2750 - accuracy: 0.8988s - loss: 0.275\n",
      "Epoch 8/15\n",
      "469/469 [==============================] - 82s 174ms/step - loss: 0.2666 - accuracy: 0.9018\n",
      "Epoch 9/15\n",
      "469/469 [==============================] - 65s 140ms/step - loss: 0.2585 - accuracy: 0.9051\n",
      "Epoch 10/15\n",
      "469/469 [==============================] - 66s 141ms/step - loss: 0.2509 - accuracy: 0.9086\n",
      "Epoch 11/15\n",
      "469/469 [==============================] - 66s 140ms/step - loss: 0.2456 - accuracy: 0.9095\n",
      "Epoch 12/15\n",
      "469/469 [==============================] - 66s 142ms/step - loss: 0.2408 - accuracy: 0.9123\n",
      "Epoch 13/15\n",
      "469/469 [==============================] - 67s 143ms/step - loss: 0.2335 - accuracy: 0.9159\n",
      "Epoch 14/15\n",
      "469/469 [==============================] - 67s 142ms/step - loss: 0.2273 - accuracy: 0.9156\n",
      "Epoch 15/15\n",
      "469/469 [==============================] - 67s 142ms/step - loss: 0.2224 - accuracy: 0.9178\n"
     ]
    },
    {
     "data": {
      "text/plain": [
       "<tensorflow.python.keras.callbacks.History at 0x278baeda2b0>"
      ]
     },
     "execution_count": 8,
     "metadata": {},
     "output_type": "execute_result"
    }
   ],
   "source": [
    "network.fit(train_images,train_labels, epochs=15, batch_size=128)"
   ]
  },
  {
   "cell_type": "markdown",
   "id": "9a6a7654",
   "metadata": {},
   "source": [
    "# Testing Model"
   ]
  },
  {
   "cell_type": "code",
   "execution_count": 9,
   "id": "fa412f41",
   "metadata": {},
   "outputs": [
    {
     "name": "stdout",
     "output_type": "stream",
     "text": [
      "313/313 [==============================] - 7s 23ms/step - loss: 0.5074 - accuracy: 0.8756\n"
     ]
    },
    {
     "data": {
      "text/plain": [
       "[0.5073863863945007, 0.8755999803543091]"
      ]
     },
     "execution_count": 9,
     "metadata": {},
     "output_type": "execute_result"
    }
   ],
   "source": [
    "network.evaluate(test_images, test_labels)"
   ]
  }
 ],
 "metadata": {
  "kernelspec": {
   "display_name": "Python 3",
   "language": "python",
   "name": "python3"
  },
  "language_info": {
   "codemirror_mode": {
    "name": "ipython",
    "version": 3
   },
   "file_extension": ".py",
   "mimetype": "text/x-python",
   "name": "python",
   "nbconvert_exporter": "python",
   "pygments_lexer": "ipython3",
   "version": "3.8.5"
  }
 },
 "nbformat": 4,
 "nbformat_minor": 5
}
